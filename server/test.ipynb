{
 "cells": [
  {
   "cell_type": "code",
   "execution_count": 1,
   "metadata": {},
   "outputs": [
    {
     "data": {
      "application/vnd.jupyter.widget-view+json": {
       "model_id": "be1eeb36e99d433daabbb7528246b6ce",
       "version_major": 2,
       "version_minor": 0
      },
      "text/plain": [
       "Loading pipeline components...:   0%|          | 0/7 [00:00<?, ?it/s]"
      ]
     },
     "metadata": {},
     "output_type": "display_data"
    },
    {
     "data": {
      "application/vnd.jupyter.widget-view+json": {
       "model_id": "5ff8c5e596dd469c9fb82ead250f48dc",
       "version_major": 2,
       "version_minor": 0
      },
      "text/plain": [
       "  0%|          | 0/50 [00:00<?, ?it/s]"
      ]
     },
     "metadata": {},
     "output_type": "display_data"
    },
    {
     "name": "stdout",
     "output_type": "stream",
     "text": [
      "Image saved to generated_image1.png\n"
     ]
    }
   ],
   "source": [
    "from diffusers import StableDiffusionPipeline\n",
    "import torch\n",
    "from PIL import Image\n",
    "\n",
    "# Load the model\n",
    "model = StableDiffusionPipeline.from_pretrained(\"CompVis/stable-diffusion-v1-4\",low_cpu_mem_usage=True)\n",
    "model = model.to(\"mps\")  \n",
    "\n",
    "def generate_image(text, save_path):\n",
    "    # Generate the image\n",
    "    with torch.no_grad():\n",
    "        image = model(text).images[0]\n",
    "    # Save the image\n",
    "    image.save(save_path)\n",
    "\n",
    "text = \"palm tree with a sunset behind it\"\n",
    "save_path = \"generated_image1.png\"\n",
    "generate_image(text, save_path)\n",
    "\n",
    "print(f\"Image saved to {save_path}\")"
   ]
  }
 ],
 "metadata": {
  "kernelspec": {
   "display_name": "base",
   "language": "python",
   "name": "python3"
  },
  "language_info": {
   "codemirror_mode": {
    "name": "ipython",
    "version": 3
   },
   "file_extension": ".py",
   "mimetype": "text/x-python",
   "name": "python",
   "nbconvert_exporter": "python",
   "pygments_lexer": "ipython3",
   "version": "3.10.9"
  }
 },
 "nbformat": 4,
 "nbformat_minor": 2
}
